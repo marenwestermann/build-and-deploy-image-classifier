{
 "cells": [
  {
   "cell_type": "markdown",
   "metadata": {},
   "source": [
    "# This is a notebook for downloading images from the Azure Bing Image Search API"
   ]
  },
  {
   "cell_type": "code",
   "execution_count": null,
   "metadata": {},
   "outputs": [],
   "source": [
    "# python modules\n",
    "import os\n",
    "from pathlib import Path\n",
    "\n",
    "# python image handling module\n",
    "from PIL import Image\n",
    "\n",
    "# azure modules\n",
    "from azure.cognitiveservices.search.imagesearch import ImageSearchClient as api\n",
    "from msrest.authentication import CognitiveServicesCredentials as auth\n",
    "\n",
    "# fastai modules\n",
    "from fastcore.foundation import L\n",
    "from fastai.data.external import download_url\n",
    "from fastai.data.transforms import get_image_files\n",
    "from fastai.vision.utils import download_images, verify_images "
   ]
  },
  {
   "cell_type": "code",
   "execution_count": null,
   "metadata": {},
   "outputs": [],
   "source": [
    "# function for searching for images via azure bing image search api\n",
    "# returns URLs\n",
    "def search_images_bing(key, term, min_sz=128):\n",
    "    client = api('https://api.cognitive.microsoft.com', auth(key))\n",
    "    return L(client.images.search(query=term, count=150, min_height=min_sz, min_width=min_sz).value)"
   ]
  },
  {
   "cell_type": "code",
   "execution_count": null,
   "metadata": {},
   "outputs": [],
   "source": [
    "# store api key in variable\n",
    "key = os.environ.get('AZURE_SEARCH_KEY', 'XXX') # replace 'XXX' with actual key"
   ]
  },
  {
   "cell_type": "code",
   "execution_count": null,
   "metadata": {},
   "outputs": [],
   "source": [
    "# check if search_images_bing function works\n",
    "results = search_images_bing(key, 'brushtail')\n",
    "ims = results.attrgot('content_url')\n",
    "len(ims)"
   ]
  },
  {
   "cell_type": "code",
   "execution_count": null,
   "metadata": {},
   "outputs": [],
   "source": [
    "# test download function\n",
    "dest = 'images/brushtail.jpg'\n",
    "download_url(ims[0], dest)"
   ]
  },
  {
   "cell_type": "code",
   "execution_count": null,
   "metadata": {},
   "outputs": [],
   "source": [
    "# show image\n",
    "im = Image.open(dest)\n",
    "MAX_SIZE = (128, 128) \n",
    "im.thumbnail(MAX_SIZE) \n",
    "im"
   ]
  },
  {
   "cell_type": "code",
   "execution_count": null,
   "metadata": {},
   "outputs": [],
   "source": [
    "# specify search and set path\n",
    "marsupial_types = ('brushtail','opossum')\n",
    "path = Path('marsupials')"
   ]
  },
  {
   "cell_type": "code",
   "execution_count": null,
   "metadata": {},
   "outputs": [],
   "source": [
    "# iterate over marsupial types and store downloaded images in respective directories\n",
    "if not path.exists():\n",
    "    path.mkdir()\n",
    "    for o in marsupial_types:\n",
    "        print(o)\n",
    "        dest = (path/o)\n",
    "        dest.mkdir(exist_ok=True)\n",
    "        results = search_images_bing(key, o)\n",
    "        download_images(dest, urls=results.attrgot('content_url'))"
   ]
  },
  {
   "cell_type": "code",
   "execution_count": null,
   "metadata": {},
   "outputs": [],
   "source": [
    "# check the image files\n",
    "fns = get_image_files(path)\n",
    "fns"
   ]
  },
  {
   "cell_type": "code",
   "execution_count": null,
   "metadata": {},
   "outputs": [],
   "source": [
    "# check if downloaded files are actually images and display how many files are not images\n",
    "failed = verify_images(fns)\n",
    "failed"
   ]
  },
  {
   "cell_type": "code",
   "execution_count": null,
   "metadata": {},
   "outputs": [],
   "source": [
    "# delete non-image files\n",
    "failed.map(Path.unlink);"
   ]
  },
  {
   "cell_type": "code",
   "execution_count": null,
   "metadata": {},
   "outputs": [],
   "source": []
  }
 ],
 "metadata": {
  "environment": {
   "name": "pytorch-gpu.1-4.m55",
   "type": "gcloud",
   "uri": "gcr.io/deeplearning-platform-release/pytorch-gpu.1-4:m55"
  },
  "kernelspec": {
   "display_name": "Python 3",
   "language": "python",
   "name": "python3"
  },
  "language_info": {
   "codemirror_mode": {
    "name": "ipython",
    "version": 3
   },
   "file_extension": ".py",
   "mimetype": "text/x-python",
   "name": "python",
   "nbconvert_exporter": "python",
   "pygments_lexer": "ipython3",
   "version": "3.7.9"
  }
 },
 "nbformat": 4,
 "nbformat_minor": 4
}
